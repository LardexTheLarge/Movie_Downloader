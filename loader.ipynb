{
 "cells": [
  {
   "cell_type": "code",
   "execution_count": 3,
   "metadata": {},
   "outputs": [],
   "source": [
    "import requests\n",
    "import os\n",
    "from bs4 import BeautifulSoup"
   ]
  },
  {
   "cell_type": "code",
   "execution_count": 21,
   "metadata": {},
   "outputs": [],
   "source": [
    "file_urls = []"
   ]
  },
  {
   "cell_type": "code",
   "execution_count": 23,
   "metadata": {},
   "outputs": [
    {
     "name": "stdout",
     "output_type": "stream",
     "text": [
      "MP4 URL: 1.Godzilla-KingOfTheMonsters1956.mp4\n",
      "MP4 URL: 10.GodzillasRevenge1969.mp4\n",
      "MP4 URL: 11.GodzillaVsTheSmogMonster1971.mp4\n",
      "MP4 URL: 12.GodzillaVsGigan1972.mp4\n",
      "MP4 URL: 13.GodzillaVsMegalon1973.mp4\n",
      "MP4 URL: 14.GodzillaVsMechagodzilla1974.mp4\n",
      "MP4 URL: 15.TerrorOfMechagodzilla1975.mp4\n",
      "MP4 URL: 16.Godzilla1985.mp4\n",
      "MP4 URL: 17.GodzillaVsBiollante1989.mp4\n",
      "MP4 URL: 18.GodzillaVsKingGhidorah1991.mp4\n",
      "MP4 URL: 19.GodzillaAndMothra-TheBattleForEarth1992.mp4\n",
      "MP4 URL: 2.GodzillaRaidsAgain1955.mp4\n",
      "MP4 URL: 20.GodzillaVsMechagodzilla21993.mp4\n",
      "MP4 URL: 21.GodzillaVsSpaceGodzilla1994.mp4\n",
      "MP4 URL: 22.GodzillaVsDestroyah1995.mp4\n",
      "MP4 URL: 23.Godzilla1998.mp4\n",
      "MP4 URL: 24.Godzilla20001999.mp4\n",
      "MP4 URL: 25.GodzillaVsMegaguirus2000.mp4\n",
      "MP4 URL: 26.GodzillaMothraAndKingGhidorahGiantMonstersAllOutAttack2001.mp4\n",
      "MP4 URL: 27.GodzillaAgainstMechagodzilla2002.mp4\n",
      "MP4 URL: 28.Godzilla-TokyoS.o.s.2003.mp4\n",
      "MP4 URL: 29.Godzilla-FinalWars2004.mp4\n",
      "MP4 URL: 3.KingKongVsGodzilla1962.mp4\n",
      "MP4 URL: 4.GhidorahTheThreeHeadedMonster1964.mp4\n",
      "MP4 URL: 5.MothraVsGodzilla1964.mp4\n",
      "MP4 URL: 6.GodzillaVsMonsterZero1965.mp4\n",
      "MP4 URL: 7.GodzillaVsTheSeaMonster1966.mp4\n",
      "MP4 URL: 8.SonOfGodzilla1967.mp4\n",
      "MP4 URL: 9.DestroyAllMonsters1968.mp4\n"
     ]
    }
   ],
   "source": [
    "gUrl = \"https://archive.org/download/RecurringDinosaurInfestationFilms\"\n",
    "base_url = \"https://dn790006.ca.archive.org/0/items/RecurringDinosaurInfestationFilms/\"\n",
    "\n",
    "response = requests.get(gUrl)\n",
    "\n",
    "soup = BeautifulSoup(response.content, 'html.parser')\n",
    "\n",
    "# Find all <a> tags\n",
    "for video_tag in soup.find_all('a'):\n",
    "    video_url = video_tag.get('href')  # Extract the 'href' attribute\n",
    "    if video_url and video_url.endswith('.mp4'):\n",
    "        print(f\"MP4 URL: {video_url}\")\n",
    "        full_url = base_url + video_url\n",
    "        file_urls.append(full_url)"
   ]
  },
  {
   "cell_type": "code",
   "execution_count": 24,
   "metadata": {},
   "outputs": [
    {
     "name": "stdout",
     "output_type": "stream",
     "text": [
      "['https://dn790006.ca.archive.org/0/items/RecurringDinosaurInfestationFilms/1.Godzilla-KingOfTheMonsters1956.mp4', 'https://dn790006.ca.archive.org/0/items/RecurringDinosaurInfestationFilms/10.GodzillasRevenge1969.mp4', 'https://dn790006.ca.archive.org/0/items/RecurringDinosaurInfestationFilms/11.GodzillaVsTheSmogMonster1971.mp4', 'https://dn790006.ca.archive.org/0/items/RecurringDinosaurInfestationFilms/12.GodzillaVsGigan1972.mp4', 'https://dn790006.ca.archive.org/0/items/RecurringDinosaurInfestationFilms/13.GodzillaVsMegalon1973.mp4', 'https://dn790006.ca.archive.org/0/items/RecurringDinosaurInfestationFilms/14.GodzillaVsMechagodzilla1974.mp4', 'https://dn790006.ca.archive.org/0/items/RecurringDinosaurInfestationFilms/15.TerrorOfMechagodzilla1975.mp4', 'https://dn790006.ca.archive.org/0/items/RecurringDinosaurInfestationFilms/16.Godzilla1985.mp4', 'https://dn790006.ca.archive.org/0/items/RecurringDinosaurInfestationFilms/17.GodzillaVsBiollante1989.mp4', 'https://dn790006.ca.archive.org/0/items/RecurringDinosaurInfestationFilms/18.GodzillaVsKingGhidorah1991.mp4', 'https://dn790006.ca.archive.org/0/items/RecurringDinosaurInfestationFilms/19.GodzillaAndMothra-TheBattleForEarth1992.mp4', 'https://dn790006.ca.archive.org/0/items/RecurringDinosaurInfestationFilms/2.GodzillaRaidsAgain1955.mp4', 'https://dn790006.ca.archive.org/0/items/RecurringDinosaurInfestationFilms/20.GodzillaVsMechagodzilla21993.mp4', 'https://dn790006.ca.archive.org/0/items/RecurringDinosaurInfestationFilms/21.GodzillaVsSpaceGodzilla1994.mp4', 'https://dn790006.ca.archive.org/0/items/RecurringDinosaurInfestationFilms/22.GodzillaVsDestroyah1995.mp4', 'https://dn790006.ca.archive.org/0/items/RecurringDinosaurInfestationFilms/23.Godzilla1998.mp4', 'https://dn790006.ca.archive.org/0/items/RecurringDinosaurInfestationFilms/24.Godzilla20001999.mp4', 'https://dn790006.ca.archive.org/0/items/RecurringDinosaurInfestationFilms/25.GodzillaVsMegaguirus2000.mp4', 'https://dn790006.ca.archive.org/0/items/RecurringDinosaurInfestationFilms/26.GodzillaMothraAndKingGhidorahGiantMonstersAllOutAttack2001.mp4', 'https://dn790006.ca.archive.org/0/items/RecurringDinosaurInfestationFilms/27.GodzillaAgainstMechagodzilla2002.mp4', 'https://dn790006.ca.archive.org/0/items/RecurringDinosaurInfestationFilms/28.Godzilla-TokyoS.o.s.2003.mp4', 'https://dn790006.ca.archive.org/0/items/RecurringDinosaurInfestationFilms/29.Godzilla-FinalWars2004.mp4', 'https://dn790006.ca.archive.org/0/items/RecurringDinosaurInfestationFilms/3.KingKongVsGodzilla1962.mp4', 'https://dn790006.ca.archive.org/0/items/RecurringDinosaurInfestationFilms/4.GhidorahTheThreeHeadedMonster1964.mp4', 'https://dn790006.ca.archive.org/0/items/RecurringDinosaurInfestationFilms/5.MothraVsGodzilla1964.mp4', 'https://dn790006.ca.archive.org/0/items/RecurringDinosaurInfestationFilms/6.GodzillaVsMonsterZero1965.mp4', 'https://dn790006.ca.archive.org/0/items/RecurringDinosaurInfestationFilms/7.GodzillaVsTheSeaMonster1966.mp4', 'https://dn790006.ca.archive.org/0/items/RecurringDinosaurInfestationFilms/8.SonOfGodzilla1967.mp4', 'https://dn790006.ca.archive.org/0/items/RecurringDinosaurInfestationFilms/9.DestroyAllMonsters1968.mp4']\n"
     ]
    }
   ],
   "source": [
    "print(file_urls)"
   ]
  },
  {
   "cell_type": "code",
   "execution_count": 27,
   "metadata": {},
   "outputs": [],
   "source": [
    "save_dir = 'c:\\\\Users\\\\Lardex\\\\Videos\\\\Captures'\n",
    "\n",
    "if not os.path.exists(save_dir):\n",
    "    os.makedirs(save_dir)\n",
    "\n",
    "def download_file(url):\n",
    "    local_filename = url.split('/')[-1]\n",
    "    local_filepath = os.path.join(save_dir, local_filename)\n",
    "    with requests.get(url, stream = True) as r:\n",
    "        r.raise_for_status()\n",
    "        with open(local_filepath, 'wb') as f:\n",
    "            for chunk in r.iter_content(chunk_size=8192):\n",
    "                f.write(chunk)\n",
    "            \n",
    "    return local_filepath"
   ]
  }
 ],
 "metadata": {
  "kernelspec": {
   "display_name": "base",
   "language": "python",
   "name": "python3"
  },
  "language_info": {
   "codemirror_mode": {
    "name": "ipython",
    "version": 3
   },
   "file_extension": ".py",
   "mimetype": "text/x-python",
   "name": "python",
   "nbconvert_exporter": "python",
   "pygments_lexer": "ipython3",
   "version": "3.11.5"
  }
 },
 "nbformat": 4,
 "nbformat_minor": 2
}
